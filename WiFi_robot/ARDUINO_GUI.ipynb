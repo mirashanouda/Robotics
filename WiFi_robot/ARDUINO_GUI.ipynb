{
 "cells": [
  {
   "cell_type": "code",
   "execution_count": 1,
   "id": "3b1d58e1",
   "metadata": {},
   "outputs": [
    {
     "name": "stdout",
     "output_type": "stream",
     "text": [
      "Requirement already satisfied: keyboard in c:\\machinelearning\\matplotlib\\env\\lib\\site-packages (0.13.5)Note: you may need to restart the kernel to use updated packages.\n",
      "\n",
      "Collecting pyinstaller\n",
      "  Downloading pyinstaller-5.7.0-py3-none-win_amd64.whl (1.3 MB)\n",
      "     ---------------------------------------- 1.3/1.3 MB 2.8 MB/s eta 0:00:00\n",
      "Requirement already satisfied: setuptools>=42.0.0 in c:\\machinelearning\\matplotlib\\env\\lib\\site-packages (from pyinstaller) (65.5.0)\n",
      "Collecting pyinstaller-hooks-contrib>=2021.4\n",
      "  Downloading pyinstaller_hooks_contrib-2022.15-py2.py3-none-any.whl (253 kB)\n",
      "     -------------------------------------- 254.0/254.0 kB 3.9 MB/s eta 0:00:00\n",
      "Collecting pefile>=2022.5.30\n",
      "  Downloading pefile-2022.5.30.tar.gz (72 kB)\n",
      "     ---------------------------------------- 72.9/72.9 kB 4.2 MB/s eta 0:00:00\n",
      "  Preparing metadata (setup.py): started\n",
      "  Preparing metadata (setup.py): finished with status 'done'\n",
      "Collecting pywin32-ctypes>=0.2.0\n",
      "  Downloading pywin32_ctypes-0.2.0-py2.py3-none-any.whl (28 kB)\n",
      "Collecting altgraph\n",
      "  Downloading altgraph-0.17.3-py2.py3-none-any.whl (21 kB)\n",
      "Collecting future\n",
      "  Downloading future-0.18.3.tar.gz (840 kB)\n",
      "     -------------------------------------- 840.9/840.9 kB 3.3 MB/s eta 0:00:00\n",
      "  Preparing metadata (setup.py): started\n",
      "  Preparing metadata (setup.py): finished with status 'done'\n",
      "Building wheels for collected packages: pefile, future\n",
      "  Building wheel for pefile (setup.py): started\n",
      "  Building wheel for pefile (setup.py): finished with status 'done'\n",
      "  Created wheel for pefile: filename=pefile-2022.5.30-py3-none-any.whl size=69362 sha256=c4070405078242d80ddb2e82e274e290409d7a2c5bb330d405abbe96fea31b30\n",
      "  Stored in directory: c:\\users\\shame\\appdata\\local\\pip\\cache\\wheels\\50\\45\\ee\\5188acfa904bd407dcd93eee8d5890468292544b661143a3d6\n",
      "  Building wheel for future (setup.py): started\n",
      "  Building wheel for future (setup.py): finished with status 'done'\n",
      "  Created wheel for future: filename=future-0.18.3-py3-none-any.whl size=492025 sha256=63834c5dd2862cbb6442639a372a4aafe5f92e0b3551d392b13b29d2c6a544e9\n",
      "  Stored in directory: c:\\users\\shame\\appdata\\local\\pip\\cache\\wheels\\69\\c0\\ce\\f2a18105d619f21239a048bcc58e98d8ce47ac824e0531f1a0\n",
      "Successfully built pefile future\n",
      "Installing collected packages: pywin32-ctypes, altgraph, pyinstaller-hooks-contrib, future, pefile, pyinstaller\n",
      "Successfully installed altgraph-0.17.3 future-0.18.3 pefile-2022.5.30 pyinstaller-5.7.0 pyinstaller-hooks-contrib-2022.15 pywin32-ctypes-0.2.0\n",
      "Note: you may need to restart the kernel to use updated packages.\n"
     ]
    }
   ],
   "source": [
    "%pip install keyboard\n",
    "%pip install pyinstaller"
   ]
  },
  {
   "cell_type": "code",
   "execution_count": 2,
   "id": "53ab63c1",
   "metadata": {},
   "outputs": [
    {
     "name": "stdout",
     "output_type": "stream",
     "text": [
      "Signal for 'w' sent\n",
      "Signal for 'w' sent\n",
      "Signal for 'a' sent\n",
      "Signal for 's' sent\n",
      "Signal for 'd' sent\n",
      "Signal for 'w' sent\n",
      "Signal for 'a' sent\n",
      "Signal for 's' sent\n",
      "Signal for 'd' sent\n",
      "Signal for 'w' sent\n",
      "Signal for 'a' sent\n",
      "Signal for 's' sent\n",
      "Signal for 'd' sent\n",
      "Signal for 'w' sent\n",
      "Signal for 'a' sent\n",
      "Signal for 's' sent\n",
      "Signal for 'd' sent\n",
      "Signal for 'w' sent\n",
      "Signal for 'a' sent\n",
      "Signal for 's' sent\n",
      "Signal for 'd' sent\n",
      "Signal for 'w' sent\n",
      "Signal for 'w' sent\n"
     ]
    }
   ],
   "source": [
    "import socket\n",
    "import tkinter as tk\n",
    "import keyboard\n",
    "\n",
    "\n",
    "IP_ADDRESS = \"192.168.1.177\"\n",
    "PORT = 80\n",
    "\n",
    "client_socket = socket.socket(socket.AF_INET, socket.SOCK_STREAM)\n",
    "client_socket.connect((IP_ADDRESS, PORT))\n",
    "\n",
    "def send_signal(signal):\n",
    "    client_socket.send(signal)\n",
    "\n",
    "\n",
    "def handle_keyboard_input(e):\n",
    "    key = e.keysym\n",
    "    if key == \"w\":\n",
    "        send_signal(b'1')\n",
    "        print(\"Signal for 'w' sent\")\n",
    "        w_label.config(bg=\"red\")\n",
    "    elif key == \"a\":\n",
    "        send_signal(b'2')\n",
    "        print(\"Signal for 'a' sent\")\n",
    "        a_label.config(bg=\"red\")\n",
    "    elif key == \"s\":\n",
    "        send_signal(b'3')\n",
    "        print(\"Signal for 's' sent\")\n",
    "        s_label.config(bg=\"red\")\n",
    "    elif key == \"d\":\n",
    "        send_signal(b'4')\n",
    "        print(\"Signal for 'd' sent\")\n",
    "        d_label.config(bg=\"red\")\n",
    "\n",
    "def handle_keyboard_release(e):\n",
    "    key = e.keysym\n",
    "    if key == \"w\":\n",
    "        w_label.config(bg=\"white\")\n",
    "    elif key == \"a\":\n",
    "        a_label.config(bg=\"white\")\n",
    "    elif key == \"s\":\n",
    "        s_label.config(bg=\"white\")\n",
    "    elif key == \"d\":\n",
    "        d_label.config(bg=\"white\")\n",
    "\n",
    "root = tk.Tk()\n",
    "root.title(\"Arduino Signal Sender\")\n",
    "root.geometry(\"594x594\")\n",
    "\n",
    "img = tk.PhotoImage(file= \"mine.png\")\n",
    "bg_label = tk.Label(root, image=img)\n",
    "bg_label.grid(row=0, column=0, rowspan=10, columnspan=10)\n",
    "\n",
    "\n",
    "\n",
    "\n",
    "\n",
    "w_label = tk.Label(root, text=\"W\", font=(\"Arial\", 15), bg=\"light yellow\", height=2, width=4)\n",
    "w_label.place(relx=0.5, rely=0.4, anchor=\"center\")\n",
    "\n",
    "a_label = tk.Label(root, text=\"A\", font=(\"Arial\", 15), bg=\"light yellow\", height=2, width=4)\n",
    "a_label.place(relx=0.4, rely=0.5, anchor=\"center\")\n",
    "\n",
    "s_label = tk.Label(root, text=\"S\", font=(\"Arial\", 15), bg=\"light yellow\", height=2, width=4)\n",
    "s_label.place(relx=0.5, rely=0.5, anchor=\"center\")\n",
    "\n",
    "d_label = tk.Label(root, text=\"D\", font=(\"Arial\", 15), bg=\"light yellow\", height=2, width=4)\n",
    "d_label.place(relx=0.6, rely=0.5, anchor=\"center\")\n",
    "\n",
    "\n",
    "\n",
    "\n",
    "\n",
    "\n",
    "\n",
    "root.bind(\"<KeyPress>\", handle_keyboard_input)\n",
    "root.bind(\"<KeyRelease>\", handle_keyboard_release)\n",
    "\n",
    "root.mainloop()\n"
   ]
  },
  {
   "cell_type": "code",
   "execution_count": 3,
   "id": "0e9d075c",
   "metadata": {},
   "outputs": [
    {
     "ename": "SyntaxError",
     "evalue": "invalid syntax (651657233.py, line 1)",
     "output_type": "error",
     "traceback": [
      "\u001b[1;36m  Cell \u001b[1;32mIn[3], line 1\u001b[1;36m\u001b[0m\n\u001b[1;33m    pyinstaller <spec_file_name>.spec\u001b[0m\n\u001b[1;37m                                ^\u001b[0m\n\u001b[1;31mSyntaxError\u001b[0m\u001b[1;31m:\u001b[0m invalid syntax\n"
     ]
    }
   ],
   "source": []
  }
 ],
 "metadata": {
  "kernelspec": {
   "display_name": "Python 3",
   "language": "python",
   "name": "python3"
  },
  "language_info": {
   "codemirror_mode": {
    "name": "ipython",
    "version": 3
   },
   "file_extension": ".py",
   "mimetype": "text/x-python",
   "name": "python",
   "nbconvert_exporter": "python",
   "pygments_lexer": "ipython3",
   "version": "3.10.8"
  },
  "vscode": {
   "interpreter": {
    "hash": "c560feec41d91a96cced98d84f18485afe733996e2a1ff8bf9b0e3edd4ada4a8"
   }
  }
 },
 "nbformat": 4,
 "nbformat_minor": 5
}
